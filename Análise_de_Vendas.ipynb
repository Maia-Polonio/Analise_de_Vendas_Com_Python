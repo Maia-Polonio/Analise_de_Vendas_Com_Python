{
  "nbformat": 4,
  "nbformat_minor": 0,
  "metadata": {
    "colab": {
      "provenance": []
    },
    "kernelspec": {
      "name": "python3",
      "display_name": "Python 3"
    },
    "language_info": {
      "name": "python"
    }
  },
  "cells": [
    {
      "cell_type": "markdown",
      "source": [
        "# **Projeto: Análise de Vendas**"
      ],
      "metadata": {
        "id": "qbYAt4sVSH_L"
      }
    },
    {
      "cell_type": "markdown",
      "source": [
        "**1. Importando bibliotecas**"
      ],
      "metadata": {
        "id": "-EffyhocKHQY"
      }
    },
    {
      "cell_type": "code",
      "source": [
        "\n",
        "import csv # Biblioteca que pertmite criar e escrever arquivos CSV\n",
        "import random # Biblioteca é usada para gerar valores aleatórios, como números e escolhas aleatórias de listas\n",
        "from datetime import datetime, timedelta # Biblioteteca datetime, para manipular datas e calcular dias ou formatar datas de forma específica"
      ],
      "metadata": {
        "id": "G-WEP9BGJ5C2"
      },
      "execution_count": 87,
      "outputs": []
    },
    {
      "cell_type": "markdown",
      "source": [
        "\n",
        "**2. Definindo o nome do arquivo**"
      ],
      "metadata": {
        "id": "X2lwnebiKsJS"
      }
    },
    {
      "cell_type": "code",
      "source": [
        "nome_arquivo = 'vendas.csv' # Nomeando o arquivo que será gerado, vendas.csv. Esse nome será usado posteriormente quando o arquvio for criado."
      ],
      "metadata": {
        "id": "OJawDB18Kxi4"
      },
      "execution_count": 88,
      "outputs": []
    },
    {
      "cell_type": "markdown",
      "source": [
        "**3. Criando listas de Produtos e Regiões**"
      ],
      "metadata": {
        "id": "32oRAZtRLw1M"
      }
    },
    {
      "cell_type": "code",
      "source": [
        "produtos = ['Produto A', 'Produto B', 'Produto C', 'Produto D'] # Lista de produtos vendidos\n",
        "regioes = ['Norte', 'Sul', 'Leste', 'Oeste'] # Lista de regiões onde as vendas pode ocorrer"
      ],
      "metadata": {
        "id": "YVQ0FfUYL26p"
      },
      "execution_count": 89,
      "outputs": []
    },
    {
      "cell_type": "markdown",
      "source": [
        "**4. Definindo a data inicial**"
      ],
      "metadata": {
        "id": "eeQTWNNjMtPl"
      }
    },
    {
      "cell_type": "code",
      "source": [
        "data_inicial = datetime(2024, 1, 1) # Estabelecendo a data inicial dos registros de vendas"
      ],
      "metadata": {
        "id": "Q7Y6k7WgM-kt"
      },
      "execution_count": 90,
      "outputs": []
    },
    {
      "cell_type": "markdown",
      "source": [
        "**5. Criando o arquivo CSV e escrevendo os dados**"
      ],
      "metadata": {
        "id": "zma9qORvNOcl"
      }
    },
    {
      "cell_type": "code",
      "source": [
        "with open('vendas.csv', mode='w', newline='', encoding='utf-8-sig') as arquivo_csv: # Criação arquivo, newline='': Garante que não haverá linhas extras entre os registros, encoding='utf-8': Define o formato de codificação para evitar problemas com caracteres especiais.\n",
        "    escritor = csv.writer(arquivo_csv) #\n",
        "    escritor.writerow(['data_venda', 'produto', 'quantidade', 'preco_unitario', 'preco_total', 'regiao']) # Escrevendo o cabeçalho\n",
        "\n",
        "    for i in range(4000):  # Um laço que será executado 4.000 vezes\n",
        "\n",
        "        # Gerar uma data aleatória no intervalo de 0 a 364 dias a partir da data inicial\n",
        "        data_venda = data_inicial + timedelta(days=random.randint(0, 364))\n",
        "\n",
        "        # Escolher um produto aleatoriamente da lista\n",
        "        produto = random.choice(produtos)\n",
        "\n",
        "        # Gerar um número aleatório entre 1 e 20 para a quantidade de itens vendidos\n",
        "        quantidade = random.randint(1, 20)\n",
        "\n",
        "        # Calcular o preço _unitario\n",
        "        preco_unitario = round(random.uniform(10.0, 100.0), 2)\n",
        "\n",
        "        # Calcular o preço total baseado na quantidade e no preço unitário (aleatório entre 10.0 e 100.0)\n",
        "        preco_total = round(quantidade * preco_unitario, 2)\n",
        "\n",
        "        # Escolher aleatoriamente uma região da lista de regiões\n",
        "        regiao = random.choice(regioes)\n",
        "\n",
        "        # Escrever a linha gerada no arquivo CSV\n",
        "        escritor.writerow([\n",
        "            data_venda.strftime('%d-%m-%Y'),  # Formatar a data no estilo DD-MM-YYYY\n",
        "            produto,\n",
        "            quantidade,\n",
        "            preco_unitario,\n",
        "            preco_total,\n",
        "            regiao\n",
        "        ])\n",
        "\n",
        "print(f\"Arquivo '{nome_arquivo}' criado com sucesso!\")\n",
        "\n",
        "\n",
        "# csv.writer(): Cria um \"escritor\" que será usado para adicionar dados ao arquivo."
      ],
      "metadata": {
        "colab": {
          "base_uri": "https://localhost:8080/"
        },
        "id": "fNeLi2HgNVTt",
        "outputId": "c1110ed9-8757-49f8-bc4c-b646da614731"
      },
      "execution_count": 116,
      "outputs": [
        {
          "output_type": "stream",
          "name": "stdout",
          "text": [
            "Arquivo 'vendas.csv' criado com sucesso!\n"
          ]
        }
      ]
    },
    {
      "cell_type": "markdown",
      "source": [
        "**6. Criando um DataFrame com a Biblioteca Pandas e Realizando Análise e Manipulação dos Dados**"
      ],
      "metadata": {
        "id": "b6c1PmpqYMoJ"
      }
    },
    {
      "cell_type": "code",
      "source": [
        "import pandas as pd\n",
        "\n",
        "df = pd.read_csv('vendas.csv')\n",
        "\n",
        "df.head() # Exibi as primeiras linhas para verificar os dados"
      ],
      "metadata": {
        "colab": {
          "base_uri": "https://localhost:8080/",
          "height": 206
        },
        "id": "8zkTqhfiYulu",
        "outputId": "e1319d14-e8f9-48a0-a67d-db849c42949f"
      },
      "execution_count": 117,
      "outputs": [
        {
          "output_type": "execute_result",
          "data": {
            "text/plain": [
              "   data_venda    produto  quantidade  preco_unitario  preco_total regiao\n",
              "0  23-02-2024  Produto A          20           45.69       913.80  Oeste\n",
              "1  27-10-2024  Produto C          16           79.84      1277.44  Leste\n",
              "2  04-05-2024  Produto B           7           98.66       690.62  Norte\n",
              "3  19-01-2024  Produto C           4           34.21       136.84    Sul\n",
              "4  02-07-2024  Produto B          11           77.13       848.43    Sul"
            ],
            "text/html": [
              "\n",
              "  <div id=\"df-20e68c11-8a4f-4018-a67e-66be025d0f7c\" class=\"colab-df-container\">\n",
              "    <div>\n",
              "<style scoped>\n",
              "    .dataframe tbody tr th:only-of-type {\n",
              "        vertical-align: middle;\n",
              "    }\n",
              "\n",
              "    .dataframe tbody tr th {\n",
              "        vertical-align: top;\n",
              "    }\n",
              "\n",
              "    .dataframe thead th {\n",
              "        text-align: right;\n",
              "    }\n",
              "</style>\n",
              "<table border=\"1\" class=\"dataframe\">\n",
              "  <thead>\n",
              "    <tr style=\"text-align: right;\">\n",
              "      <th></th>\n",
              "      <th>data_venda</th>\n",
              "      <th>produto</th>\n",
              "      <th>quantidade</th>\n",
              "      <th>preco_unitario</th>\n",
              "      <th>preco_total</th>\n",
              "      <th>regiao</th>\n",
              "    </tr>\n",
              "  </thead>\n",
              "  <tbody>\n",
              "    <tr>\n",
              "      <th>0</th>\n",
              "      <td>23-02-2024</td>\n",
              "      <td>Produto A</td>\n",
              "      <td>20</td>\n",
              "      <td>45.69</td>\n",
              "      <td>913.80</td>\n",
              "      <td>Oeste</td>\n",
              "    </tr>\n",
              "    <tr>\n",
              "      <th>1</th>\n",
              "      <td>27-10-2024</td>\n",
              "      <td>Produto C</td>\n",
              "      <td>16</td>\n",
              "      <td>79.84</td>\n",
              "      <td>1277.44</td>\n",
              "      <td>Leste</td>\n",
              "    </tr>\n",
              "    <tr>\n",
              "      <th>2</th>\n",
              "      <td>04-05-2024</td>\n",
              "      <td>Produto B</td>\n",
              "      <td>7</td>\n",
              "      <td>98.66</td>\n",
              "      <td>690.62</td>\n",
              "      <td>Norte</td>\n",
              "    </tr>\n",
              "    <tr>\n",
              "      <th>3</th>\n",
              "      <td>19-01-2024</td>\n",
              "      <td>Produto C</td>\n",
              "      <td>4</td>\n",
              "      <td>34.21</td>\n",
              "      <td>136.84</td>\n",
              "      <td>Sul</td>\n",
              "    </tr>\n",
              "    <tr>\n",
              "      <th>4</th>\n",
              "      <td>02-07-2024</td>\n",
              "      <td>Produto B</td>\n",
              "      <td>11</td>\n",
              "      <td>77.13</td>\n",
              "      <td>848.43</td>\n",
              "      <td>Sul</td>\n",
              "    </tr>\n",
              "  </tbody>\n",
              "</table>\n",
              "</div>\n",
              "    <div class=\"colab-df-buttons\">\n",
              "\n",
              "  <div class=\"colab-df-container\">\n",
              "    <button class=\"colab-df-convert\" onclick=\"convertToInteractive('df-20e68c11-8a4f-4018-a67e-66be025d0f7c')\"\n",
              "            title=\"Convert this dataframe to an interactive table.\"\n",
              "            style=\"display:none;\">\n",
              "\n",
              "  <svg xmlns=\"http://www.w3.org/2000/svg\" height=\"24px\" viewBox=\"0 -960 960 960\">\n",
              "    <path d=\"M120-120v-720h720v720H120Zm60-500h600v-160H180v160Zm220 220h160v-160H400v160Zm0 220h160v-160H400v160ZM180-400h160v-160H180v160Zm440 0h160v-160H620v160ZM180-180h160v-160H180v160Zm440 0h160v-160H620v160Z\"/>\n",
              "  </svg>\n",
              "    </button>\n",
              "\n",
              "  <style>\n",
              "    .colab-df-container {\n",
              "      display:flex;\n",
              "      gap: 12px;\n",
              "    }\n",
              "\n",
              "    .colab-df-convert {\n",
              "      background-color: #E8F0FE;\n",
              "      border: none;\n",
              "      border-radius: 50%;\n",
              "      cursor: pointer;\n",
              "      display: none;\n",
              "      fill: #1967D2;\n",
              "      height: 32px;\n",
              "      padding: 0 0 0 0;\n",
              "      width: 32px;\n",
              "    }\n",
              "\n",
              "    .colab-df-convert:hover {\n",
              "      background-color: #E2EBFA;\n",
              "      box-shadow: 0px 1px 2px rgba(60, 64, 67, 0.3), 0px 1px 3px 1px rgba(60, 64, 67, 0.15);\n",
              "      fill: #174EA6;\n",
              "    }\n",
              "\n",
              "    .colab-df-buttons div {\n",
              "      margin-bottom: 4px;\n",
              "    }\n",
              "\n",
              "    [theme=dark] .colab-df-convert {\n",
              "      background-color: #3B4455;\n",
              "      fill: #D2E3FC;\n",
              "    }\n",
              "\n",
              "    [theme=dark] .colab-df-convert:hover {\n",
              "      background-color: #434B5C;\n",
              "      box-shadow: 0px 1px 3px 1px rgba(0, 0, 0, 0.15);\n",
              "      filter: drop-shadow(0px 1px 2px rgba(0, 0, 0, 0.3));\n",
              "      fill: #FFFFFF;\n",
              "    }\n",
              "  </style>\n",
              "\n",
              "    <script>\n",
              "      const buttonEl =\n",
              "        document.querySelector('#df-20e68c11-8a4f-4018-a67e-66be025d0f7c button.colab-df-convert');\n",
              "      buttonEl.style.display =\n",
              "        google.colab.kernel.accessAllowed ? 'block' : 'none';\n",
              "\n",
              "      async function convertToInteractive(key) {\n",
              "        const element = document.querySelector('#df-20e68c11-8a4f-4018-a67e-66be025d0f7c');\n",
              "        const dataTable =\n",
              "          await google.colab.kernel.invokeFunction('convertToInteractive',\n",
              "                                                    [key], {});\n",
              "        if (!dataTable) return;\n",
              "\n",
              "        const docLinkHtml = 'Like what you see? Visit the ' +\n",
              "          '<a target=\"_blank\" href=https://colab.research.google.com/notebooks/data_table.ipynb>data table notebook</a>'\n",
              "          + ' to learn more about interactive tables.';\n",
              "        element.innerHTML = '';\n",
              "        dataTable['output_type'] = 'display_data';\n",
              "        await google.colab.output.renderOutput(dataTable, element);\n",
              "        const docLink = document.createElement('div');\n",
              "        docLink.innerHTML = docLinkHtml;\n",
              "        element.appendChild(docLink);\n",
              "      }\n",
              "    </script>\n",
              "  </div>\n",
              "\n",
              "\n",
              "<div id=\"df-038aeaea-36b0-4249-8886-e5af4aeeb489\">\n",
              "  <button class=\"colab-df-quickchart\" onclick=\"quickchart('df-038aeaea-36b0-4249-8886-e5af4aeeb489')\"\n",
              "            title=\"Suggest charts\"\n",
              "            style=\"display:none;\">\n",
              "\n",
              "<svg xmlns=\"http://www.w3.org/2000/svg\" height=\"24px\"viewBox=\"0 0 24 24\"\n",
              "     width=\"24px\">\n",
              "    <g>\n",
              "        <path d=\"M19 3H5c-1.1 0-2 .9-2 2v14c0 1.1.9 2 2 2h14c1.1 0 2-.9 2-2V5c0-1.1-.9-2-2-2zM9 17H7v-7h2v7zm4 0h-2V7h2v10zm4 0h-2v-4h2v4z\"/>\n",
              "    </g>\n",
              "</svg>\n",
              "  </button>\n",
              "\n",
              "<style>\n",
              "  .colab-df-quickchart {\n",
              "      --bg-color: #E8F0FE;\n",
              "      --fill-color: #1967D2;\n",
              "      --hover-bg-color: #E2EBFA;\n",
              "      --hover-fill-color: #174EA6;\n",
              "      --disabled-fill-color: #AAA;\n",
              "      --disabled-bg-color: #DDD;\n",
              "  }\n",
              "\n",
              "  [theme=dark] .colab-df-quickchart {\n",
              "      --bg-color: #3B4455;\n",
              "      --fill-color: #D2E3FC;\n",
              "      --hover-bg-color: #434B5C;\n",
              "      --hover-fill-color: #FFFFFF;\n",
              "      --disabled-bg-color: #3B4455;\n",
              "      --disabled-fill-color: #666;\n",
              "  }\n",
              "\n",
              "  .colab-df-quickchart {\n",
              "    background-color: var(--bg-color);\n",
              "    border: none;\n",
              "    border-radius: 50%;\n",
              "    cursor: pointer;\n",
              "    display: none;\n",
              "    fill: var(--fill-color);\n",
              "    height: 32px;\n",
              "    padding: 0;\n",
              "    width: 32px;\n",
              "  }\n",
              "\n",
              "  .colab-df-quickchart:hover {\n",
              "    background-color: var(--hover-bg-color);\n",
              "    box-shadow: 0 1px 2px rgba(60, 64, 67, 0.3), 0 1px 3px 1px rgba(60, 64, 67, 0.15);\n",
              "    fill: var(--button-hover-fill-color);\n",
              "  }\n",
              "\n",
              "  .colab-df-quickchart-complete:disabled,\n",
              "  .colab-df-quickchart-complete:disabled:hover {\n",
              "    background-color: var(--disabled-bg-color);\n",
              "    fill: var(--disabled-fill-color);\n",
              "    box-shadow: none;\n",
              "  }\n",
              "\n",
              "  .colab-df-spinner {\n",
              "    border: 2px solid var(--fill-color);\n",
              "    border-color: transparent;\n",
              "    border-bottom-color: var(--fill-color);\n",
              "    animation:\n",
              "      spin 1s steps(1) infinite;\n",
              "  }\n",
              "\n",
              "  @keyframes spin {\n",
              "    0% {\n",
              "      border-color: transparent;\n",
              "      border-bottom-color: var(--fill-color);\n",
              "      border-left-color: var(--fill-color);\n",
              "    }\n",
              "    20% {\n",
              "      border-color: transparent;\n",
              "      border-left-color: var(--fill-color);\n",
              "      border-top-color: var(--fill-color);\n",
              "    }\n",
              "    30% {\n",
              "      border-color: transparent;\n",
              "      border-left-color: var(--fill-color);\n",
              "      border-top-color: var(--fill-color);\n",
              "      border-right-color: var(--fill-color);\n",
              "    }\n",
              "    40% {\n",
              "      border-color: transparent;\n",
              "      border-right-color: var(--fill-color);\n",
              "      border-top-color: var(--fill-color);\n",
              "    }\n",
              "    60% {\n",
              "      border-color: transparent;\n",
              "      border-right-color: var(--fill-color);\n",
              "    }\n",
              "    80% {\n",
              "      border-color: transparent;\n",
              "      border-right-color: var(--fill-color);\n",
              "      border-bottom-color: var(--fill-color);\n",
              "    }\n",
              "    90% {\n",
              "      border-color: transparent;\n",
              "      border-bottom-color: var(--fill-color);\n",
              "    }\n",
              "  }\n",
              "</style>\n",
              "\n",
              "  <script>\n",
              "    async function quickchart(key) {\n",
              "      const quickchartButtonEl =\n",
              "        document.querySelector('#' + key + ' button');\n",
              "      quickchartButtonEl.disabled = true;  // To prevent multiple clicks.\n",
              "      quickchartButtonEl.classList.add('colab-df-spinner');\n",
              "      try {\n",
              "        const charts = await google.colab.kernel.invokeFunction(\n",
              "            'suggestCharts', [key], {});\n",
              "      } catch (error) {\n",
              "        console.error('Error during call to suggestCharts:', error);\n",
              "      }\n",
              "      quickchartButtonEl.classList.remove('colab-df-spinner');\n",
              "      quickchartButtonEl.classList.add('colab-df-quickchart-complete');\n",
              "    }\n",
              "    (() => {\n",
              "      let quickchartButtonEl =\n",
              "        document.querySelector('#df-038aeaea-36b0-4249-8886-e5af4aeeb489 button');\n",
              "      quickchartButtonEl.style.display =\n",
              "        google.colab.kernel.accessAllowed ? 'block' : 'none';\n",
              "    })();\n",
              "  </script>\n",
              "</div>\n",
              "\n",
              "    </div>\n",
              "  </div>\n"
            ],
            "application/vnd.google.colaboratory.intrinsic+json": {
              "type": "dataframe",
              "variable_name": "df",
              "summary": "{\n  \"name\": \"df\",\n  \"rows\": 4000,\n  \"fields\": [\n    {\n      \"column\": \"data_venda\",\n      \"properties\": {\n        \"dtype\": \"object\",\n        \"num_unique_values\": 365,\n        \"samples\": [\n          \"07-08-2024\",\n          \"01-05-2024\",\n          \"30-10-2024\"\n        ],\n        \"semantic_type\": \"\",\n        \"description\": \"\"\n      }\n    },\n    {\n      \"column\": \"produto\",\n      \"properties\": {\n        \"dtype\": \"category\",\n        \"num_unique_values\": 4,\n        \"samples\": [\n          \"Produto C\",\n          \"Produto D\",\n          \"Produto A\"\n        ],\n        \"semantic_type\": \"\",\n        \"description\": \"\"\n      }\n    },\n    {\n      \"column\": \"quantidade\",\n      \"properties\": {\n        \"dtype\": \"number\",\n        \"std\": 5,\n        \"min\": 1,\n        \"max\": 20,\n        \"num_unique_values\": 20,\n        \"samples\": [\n          20,\n          14,\n          2\n        ],\n        \"semantic_type\": \"\",\n        \"description\": \"\"\n      }\n    },\n    {\n      \"column\": \"preco_unitario\",\n      \"properties\": {\n        \"dtype\": \"number\",\n        \"std\": 25.999305883784757,\n        \"min\": 10.08,\n        \"max\": 99.99,\n        \"num_unique_values\": 3249,\n        \"samples\": [\n          73.44,\n          11.63,\n          30.66\n        ],\n        \"semantic_type\": \"\",\n        \"description\": \"\"\n      }\n    },\n    {\n      \"column\": \"preco_total\",\n      \"properties\": {\n        \"dtype\": \"number\",\n        \"std\": 442.92626506654915,\n        \"min\": 10.08,\n        \"max\": 1989.4,\n        \"num_unique_values\": 3849,\n        \"samples\": [\n          137.72,\n          879.9,\n          424.06\n        ],\n        \"semantic_type\": \"\",\n        \"description\": \"\"\n      }\n    },\n    {\n      \"column\": \"regiao\",\n      \"properties\": {\n        \"dtype\": \"category\",\n        \"num_unique_values\": 4,\n        \"samples\": [\n          \"Leste\",\n          \"Sul\",\n          \"Oeste\"\n        ],\n        \"semantic_type\": \"\",\n        \"description\": \"\"\n      }\n    }\n  ]\n}"
            }
          },
          "metadata": {},
          "execution_count": 117
        }
      ]
    },
    {
      "cell_type": "code",
      "source": [
        "# Dimensões do DataFrame\n",
        "print(f\"Linhas: {df.shape[0]}, Colunas: {df.shape[1]}\")"
      ],
      "metadata": {
        "colab": {
          "base_uri": "https://localhost:8080/"
        },
        "id": "QB94nsV5Z2xa",
        "outputId": "78ad7266-ba35-458a-940d-cc27994b6a35"
      },
      "execution_count": 118,
      "outputs": [
        {
          "output_type": "stream",
          "name": "stdout",
          "text": [
            "Linhas: 4000, Colunas: 6\n"
          ]
        }
      ]
    },
    {
      "cell_type": "code",
      "source": [
        "# Verificar os tipos de dados\n",
        "print(df.dtypes)"
      ],
      "metadata": {
        "colab": {
          "base_uri": "https://localhost:8080/"
        },
        "id": "GboLtVEia2zt",
        "outputId": "029888d8-2279-40f1-d0f4-250c76fc7b40"
      },
      "execution_count": 119,
      "outputs": [
        {
          "output_type": "stream",
          "name": "stdout",
          "text": [
            "data_venda         object\n",
            "produto            object\n",
            "quantidade          int64\n",
            "preco_unitario    float64\n",
            "preco_total       float64\n",
            "regiao             object\n",
            "dtype: object\n"
          ]
        }
      ]
    },
    {
      "cell_type": "code",
      "source": [
        "# Gerar estatísticas resumidas para colunas numéricas, como quantidade e preco_total\n",
        "df.describe()"
      ],
      "metadata": {
        "colab": {
          "base_uri": "https://localhost:8080/",
          "height": 300
        },
        "id": "FSsUtTi_baGB",
        "outputId": "8c2c02fd-1335-472a-a3be-6b6567afb7d3"
      },
      "execution_count": 120,
      "outputs": [
        {
          "output_type": "execute_result",
          "data": {
            "text/plain": [
              "        quantidade  preco_unitario  preco_total\n",
              "count  4000.000000     4000.000000  4000.000000\n",
              "mean     10.523000       55.217478   581.726385\n",
              "std       5.720153       25.999306   442.926265\n",
              "min       1.000000       10.080000    10.080000\n",
              "25%       6.000000       32.970000   218.870000\n",
              "50%      10.000000       55.025000   467.775000\n",
              "75%      15.000000       78.230000   851.445000\n",
              "max      20.000000       99.990000  1989.400000"
            ],
            "text/html": [
              "\n",
              "  <div id=\"df-d21bd068-96f6-44e7-b1cd-30a56384cb3e\" class=\"colab-df-container\">\n",
              "    <div>\n",
              "<style scoped>\n",
              "    .dataframe tbody tr th:only-of-type {\n",
              "        vertical-align: middle;\n",
              "    }\n",
              "\n",
              "    .dataframe tbody tr th {\n",
              "        vertical-align: top;\n",
              "    }\n",
              "\n",
              "    .dataframe thead th {\n",
              "        text-align: right;\n",
              "    }\n",
              "</style>\n",
              "<table border=\"1\" class=\"dataframe\">\n",
              "  <thead>\n",
              "    <tr style=\"text-align: right;\">\n",
              "      <th></th>\n",
              "      <th>quantidade</th>\n",
              "      <th>preco_unitario</th>\n",
              "      <th>preco_total</th>\n",
              "    </tr>\n",
              "  </thead>\n",
              "  <tbody>\n",
              "    <tr>\n",
              "      <th>count</th>\n",
              "      <td>4000.000000</td>\n",
              "      <td>4000.000000</td>\n",
              "      <td>4000.000000</td>\n",
              "    </tr>\n",
              "    <tr>\n",
              "      <th>mean</th>\n",
              "      <td>10.523000</td>\n",
              "      <td>55.217478</td>\n",
              "      <td>581.726385</td>\n",
              "    </tr>\n",
              "    <tr>\n",
              "      <th>std</th>\n",
              "      <td>5.720153</td>\n",
              "      <td>25.999306</td>\n",
              "      <td>442.926265</td>\n",
              "    </tr>\n",
              "    <tr>\n",
              "      <th>min</th>\n",
              "      <td>1.000000</td>\n",
              "      <td>10.080000</td>\n",
              "      <td>10.080000</td>\n",
              "    </tr>\n",
              "    <tr>\n",
              "      <th>25%</th>\n",
              "      <td>6.000000</td>\n",
              "      <td>32.970000</td>\n",
              "      <td>218.870000</td>\n",
              "    </tr>\n",
              "    <tr>\n",
              "      <th>50%</th>\n",
              "      <td>10.000000</td>\n",
              "      <td>55.025000</td>\n",
              "      <td>467.775000</td>\n",
              "    </tr>\n",
              "    <tr>\n",
              "      <th>75%</th>\n",
              "      <td>15.000000</td>\n",
              "      <td>78.230000</td>\n",
              "      <td>851.445000</td>\n",
              "    </tr>\n",
              "    <tr>\n",
              "      <th>max</th>\n",
              "      <td>20.000000</td>\n",
              "      <td>99.990000</td>\n",
              "      <td>1989.400000</td>\n",
              "    </tr>\n",
              "  </tbody>\n",
              "</table>\n",
              "</div>\n",
              "    <div class=\"colab-df-buttons\">\n",
              "\n",
              "  <div class=\"colab-df-container\">\n",
              "    <button class=\"colab-df-convert\" onclick=\"convertToInteractive('df-d21bd068-96f6-44e7-b1cd-30a56384cb3e')\"\n",
              "            title=\"Convert this dataframe to an interactive table.\"\n",
              "            style=\"display:none;\">\n",
              "\n",
              "  <svg xmlns=\"http://www.w3.org/2000/svg\" height=\"24px\" viewBox=\"0 -960 960 960\">\n",
              "    <path d=\"M120-120v-720h720v720H120Zm60-500h600v-160H180v160Zm220 220h160v-160H400v160Zm0 220h160v-160H400v160ZM180-400h160v-160H180v160Zm440 0h160v-160H620v160ZM180-180h160v-160H180v160Zm440 0h160v-160H620v160Z\"/>\n",
              "  </svg>\n",
              "    </button>\n",
              "\n",
              "  <style>\n",
              "    .colab-df-container {\n",
              "      display:flex;\n",
              "      gap: 12px;\n",
              "    }\n",
              "\n",
              "    .colab-df-convert {\n",
              "      background-color: #E8F0FE;\n",
              "      border: none;\n",
              "      border-radius: 50%;\n",
              "      cursor: pointer;\n",
              "      display: none;\n",
              "      fill: #1967D2;\n",
              "      height: 32px;\n",
              "      padding: 0 0 0 0;\n",
              "      width: 32px;\n",
              "    }\n",
              "\n",
              "    .colab-df-convert:hover {\n",
              "      background-color: #E2EBFA;\n",
              "      box-shadow: 0px 1px 2px rgba(60, 64, 67, 0.3), 0px 1px 3px 1px rgba(60, 64, 67, 0.15);\n",
              "      fill: #174EA6;\n",
              "    }\n",
              "\n",
              "    .colab-df-buttons div {\n",
              "      margin-bottom: 4px;\n",
              "    }\n",
              "\n",
              "    [theme=dark] .colab-df-convert {\n",
              "      background-color: #3B4455;\n",
              "      fill: #D2E3FC;\n",
              "    }\n",
              "\n",
              "    [theme=dark] .colab-df-convert:hover {\n",
              "      background-color: #434B5C;\n",
              "      box-shadow: 0px 1px 3px 1px rgba(0, 0, 0, 0.15);\n",
              "      filter: drop-shadow(0px 1px 2px rgba(0, 0, 0, 0.3));\n",
              "      fill: #FFFFFF;\n",
              "    }\n",
              "  </style>\n",
              "\n",
              "    <script>\n",
              "      const buttonEl =\n",
              "        document.querySelector('#df-d21bd068-96f6-44e7-b1cd-30a56384cb3e button.colab-df-convert');\n",
              "      buttonEl.style.display =\n",
              "        google.colab.kernel.accessAllowed ? 'block' : 'none';\n",
              "\n",
              "      async function convertToInteractive(key) {\n",
              "        const element = document.querySelector('#df-d21bd068-96f6-44e7-b1cd-30a56384cb3e');\n",
              "        const dataTable =\n",
              "          await google.colab.kernel.invokeFunction('convertToInteractive',\n",
              "                                                    [key], {});\n",
              "        if (!dataTable) return;\n",
              "\n",
              "        const docLinkHtml = 'Like what you see? Visit the ' +\n",
              "          '<a target=\"_blank\" href=https://colab.research.google.com/notebooks/data_table.ipynb>data table notebook</a>'\n",
              "          + ' to learn more about interactive tables.';\n",
              "        element.innerHTML = '';\n",
              "        dataTable['output_type'] = 'display_data';\n",
              "        await google.colab.output.renderOutput(dataTable, element);\n",
              "        const docLink = document.createElement('div');\n",
              "        docLink.innerHTML = docLinkHtml;\n",
              "        element.appendChild(docLink);\n",
              "      }\n",
              "    </script>\n",
              "  </div>\n",
              "\n",
              "\n",
              "<div id=\"df-b6d21d11-2d6f-4acf-a608-55382f169997\">\n",
              "  <button class=\"colab-df-quickchart\" onclick=\"quickchart('df-b6d21d11-2d6f-4acf-a608-55382f169997')\"\n",
              "            title=\"Suggest charts\"\n",
              "            style=\"display:none;\">\n",
              "\n",
              "<svg xmlns=\"http://www.w3.org/2000/svg\" height=\"24px\"viewBox=\"0 0 24 24\"\n",
              "     width=\"24px\">\n",
              "    <g>\n",
              "        <path d=\"M19 3H5c-1.1 0-2 .9-2 2v14c0 1.1.9 2 2 2h14c1.1 0 2-.9 2-2V5c0-1.1-.9-2-2-2zM9 17H7v-7h2v7zm4 0h-2V7h2v10zm4 0h-2v-4h2v4z\"/>\n",
              "    </g>\n",
              "</svg>\n",
              "  </button>\n",
              "\n",
              "<style>\n",
              "  .colab-df-quickchart {\n",
              "      --bg-color: #E8F0FE;\n",
              "      --fill-color: #1967D2;\n",
              "      --hover-bg-color: #E2EBFA;\n",
              "      --hover-fill-color: #174EA6;\n",
              "      --disabled-fill-color: #AAA;\n",
              "      --disabled-bg-color: #DDD;\n",
              "  }\n",
              "\n",
              "  [theme=dark] .colab-df-quickchart {\n",
              "      --bg-color: #3B4455;\n",
              "      --fill-color: #D2E3FC;\n",
              "      --hover-bg-color: #434B5C;\n",
              "      --hover-fill-color: #FFFFFF;\n",
              "      --disabled-bg-color: #3B4455;\n",
              "      --disabled-fill-color: #666;\n",
              "  }\n",
              "\n",
              "  .colab-df-quickchart {\n",
              "    background-color: var(--bg-color);\n",
              "    border: none;\n",
              "    border-radius: 50%;\n",
              "    cursor: pointer;\n",
              "    display: none;\n",
              "    fill: var(--fill-color);\n",
              "    height: 32px;\n",
              "    padding: 0;\n",
              "    width: 32px;\n",
              "  }\n",
              "\n",
              "  .colab-df-quickchart:hover {\n",
              "    background-color: var(--hover-bg-color);\n",
              "    box-shadow: 0 1px 2px rgba(60, 64, 67, 0.3), 0 1px 3px 1px rgba(60, 64, 67, 0.15);\n",
              "    fill: var(--button-hover-fill-color);\n",
              "  }\n",
              "\n",
              "  .colab-df-quickchart-complete:disabled,\n",
              "  .colab-df-quickchart-complete:disabled:hover {\n",
              "    background-color: var(--disabled-bg-color);\n",
              "    fill: var(--disabled-fill-color);\n",
              "    box-shadow: none;\n",
              "  }\n",
              "\n",
              "  .colab-df-spinner {\n",
              "    border: 2px solid var(--fill-color);\n",
              "    border-color: transparent;\n",
              "    border-bottom-color: var(--fill-color);\n",
              "    animation:\n",
              "      spin 1s steps(1) infinite;\n",
              "  }\n",
              "\n",
              "  @keyframes spin {\n",
              "    0% {\n",
              "      border-color: transparent;\n",
              "      border-bottom-color: var(--fill-color);\n",
              "      border-left-color: var(--fill-color);\n",
              "    }\n",
              "    20% {\n",
              "      border-color: transparent;\n",
              "      border-left-color: var(--fill-color);\n",
              "      border-top-color: var(--fill-color);\n",
              "    }\n",
              "    30% {\n",
              "      border-color: transparent;\n",
              "      border-left-color: var(--fill-color);\n",
              "      border-top-color: var(--fill-color);\n",
              "      border-right-color: var(--fill-color);\n",
              "    }\n",
              "    40% {\n",
              "      border-color: transparent;\n",
              "      border-right-color: var(--fill-color);\n",
              "      border-top-color: var(--fill-color);\n",
              "    }\n",
              "    60% {\n",
              "      border-color: transparent;\n",
              "      border-right-color: var(--fill-color);\n",
              "    }\n",
              "    80% {\n",
              "      border-color: transparent;\n",
              "      border-right-color: var(--fill-color);\n",
              "      border-bottom-color: var(--fill-color);\n",
              "    }\n",
              "    90% {\n",
              "      border-color: transparent;\n",
              "      border-bottom-color: var(--fill-color);\n",
              "    }\n",
              "  }\n",
              "</style>\n",
              "\n",
              "  <script>\n",
              "    async function quickchart(key) {\n",
              "      const quickchartButtonEl =\n",
              "        document.querySelector('#' + key + ' button');\n",
              "      quickchartButtonEl.disabled = true;  // To prevent multiple clicks.\n",
              "      quickchartButtonEl.classList.add('colab-df-spinner');\n",
              "      try {\n",
              "        const charts = await google.colab.kernel.invokeFunction(\n",
              "            'suggestCharts', [key], {});\n",
              "      } catch (error) {\n",
              "        console.error('Error during call to suggestCharts:', error);\n",
              "      }\n",
              "      quickchartButtonEl.classList.remove('colab-df-spinner');\n",
              "      quickchartButtonEl.classList.add('colab-df-quickchart-complete');\n",
              "    }\n",
              "    (() => {\n",
              "      let quickchartButtonEl =\n",
              "        document.querySelector('#df-b6d21d11-2d6f-4acf-a608-55382f169997 button');\n",
              "      quickchartButtonEl.style.display =\n",
              "        google.colab.kernel.accessAllowed ? 'block' : 'none';\n",
              "    })();\n",
              "  </script>\n",
              "</div>\n",
              "\n",
              "    </div>\n",
              "  </div>\n"
            ],
            "application/vnd.google.colaboratory.intrinsic+json": {
              "type": "dataframe",
              "summary": "{\n  \"name\": \"df\",\n  \"rows\": 8,\n  \"fields\": [\n    {\n      \"column\": \"quantidade\",\n      \"properties\": {\n        \"dtype\": \"number\",\n        \"std\": 1410.778921610677,\n        \"min\": 1.0,\n        \"max\": 4000.0,\n        \"num_unique_values\": 8,\n        \"samples\": [\n          10.523,\n          10.0,\n          4000.0\n        ],\n        \"semantic_type\": \"\",\n        \"description\": \"\"\n      }\n    },\n    {\n      \"column\": \"preco_unitario\",\n      \"properties\": {\n        \"dtype\": \"number\",\n        \"std\": 1396.4531922420886,\n        \"min\": 10.08,\n        \"max\": 4000.0,\n        \"num_unique_values\": 8,\n        \"samples\": [\n          55.2174775,\n          55.025000000000006,\n          4000.0\n        ],\n        \"semantic_type\": \"\",\n        \"description\": \"\"\n      }\n    },\n    {\n      \"column\": \"preco_total\",\n      \"properties\": {\n        \"dtype\": \"number\",\n        \"std\": 1326.6564985802731,\n        \"min\": 10.08,\n        \"max\": 4000.0,\n        \"num_unique_values\": 8,\n        \"samples\": [\n          581.726385,\n          467.775,\n          4000.0\n        ],\n        \"semantic_type\": \"\",\n        \"description\": \"\"\n      }\n    }\n  ]\n}"
            }
          },
          "metadata": {},
          "execution_count": 120
        }
      ]
    },
    {
      "cell_type": "code",
      "source": [
        "# Verificar se há valores nulos\n",
        "df.isnull().sum()"
      ],
      "metadata": {
        "colab": {
          "base_uri": "https://localhost:8080/",
          "height": 272
        },
        "id": "Y0Oif12hbpji",
        "outputId": "4f2c2c03-448f-4c96-ad04-0d4c17464ab4"
      },
      "execution_count": 121,
      "outputs": [
        {
          "output_type": "execute_result",
          "data": {
            "text/plain": [
              "data_venda        0\n",
              "produto           0\n",
              "quantidade        0\n",
              "preco_unitario    0\n",
              "preco_total       0\n",
              "regiao            0\n",
              "dtype: int64"
            ],
            "text/html": [
              "<div>\n",
              "<style scoped>\n",
              "    .dataframe tbody tr th:only-of-type {\n",
              "        vertical-align: middle;\n",
              "    }\n",
              "\n",
              "    .dataframe tbody tr th {\n",
              "        vertical-align: top;\n",
              "    }\n",
              "\n",
              "    .dataframe thead th {\n",
              "        text-align: right;\n",
              "    }\n",
              "</style>\n",
              "<table border=\"1\" class=\"dataframe\">\n",
              "  <thead>\n",
              "    <tr style=\"text-align: right;\">\n",
              "      <th></th>\n",
              "      <th>0</th>\n",
              "    </tr>\n",
              "  </thead>\n",
              "  <tbody>\n",
              "    <tr>\n",
              "      <th>data_venda</th>\n",
              "      <td>0</td>\n",
              "    </tr>\n",
              "    <tr>\n",
              "      <th>produto</th>\n",
              "      <td>0</td>\n",
              "    </tr>\n",
              "    <tr>\n",
              "      <th>quantidade</th>\n",
              "      <td>0</td>\n",
              "    </tr>\n",
              "    <tr>\n",
              "      <th>preco_unitario</th>\n",
              "      <td>0</td>\n",
              "    </tr>\n",
              "    <tr>\n",
              "      <th>preco_total</th>\n",
              "      <td>0</td>\n",
              "    </tr>\n",
              "    <tr>\n",
              "      <th>regiao</th>\n",
              "      <td>0</td>\n",
              "    </tr>\n",
              "  </tbody>\n",
              "</table>\n",
              "</div><br><label><b>dtype:</b> int64</label>"
            ]
          },
          "metadata": {},
          "execution_count": 121
        }
      ]
    },
    {
      "cell_type": "markdown",
      "source": [
        "**8. Análise Gráfica dos Dados**"
      ],
      "metadata": {
        "id": "Q5Bm1hJ5cWXF"
      }
    },
    {
      "cell_type": "code",
      "source": [
        "# Frequência de vendas por produto e por Região\n",
        "frequencia_produto = df['produto'].value_counts()\n",
        "print(frequencia_produto)"
      ],
      "metadata": {
        "colab": {
          "base_uri": "https://localhost:8080/"
        },
        "id": "NzZ41YjOcbHS",
        "outputId": "68569715-744e-486c-f807-043d68abecc5"
      },
      "execution_count": 168,
      "outputs": [
        {
          "output_type": "stream",
          "name": "stdout",
          "text": [
            "produto\n",
            "Produto A    1017\n",
            "Produto C    1012\n",
            "Produto D    1004\n",
            "Produto B     967\n",
            "Name: count, dtype: int64\n"
          ]
        }
      ]
    },
    {
      "cell_type": "code",
      "source": [
        "plt.figure(figsize=(10, 6))\n",
        "frequencia_produto.plot(kind='barh', color='orange', edgecolor='black')\n",
        "\n",
        "# Adicionar título e rótulos\n",
        "plt.title('Frequência de Vendas por Produto', fontsize=16)\n",
        "plt.xlabel('Quantidade', fontsize=10)\n",
        "plt.ylabel('Produto', fontsize=10)\n",
        "plt.xticks(rotation=20, fontsize=10)\n",
        "plt.grid(axis='y', linestyle='--', alpha=0.7)\n",
        "\n",
        "# Exibir o gráfico\n",
        "plt.tight_layout()"
      ],
      "metadata": {
        "colab": {
          "base_uri": "https://localhost:8080/",
          "height": 607
        },
        "id": "cfJecBITvlez",
        "outputId": "5e4724f6-cf68-44a8-c766-b828f0777a66"
      },
      "execution_count": 179,
      "outputs": [
        {
          "output_type": "display_data",
          "data": {
            "text/plain": [
              "<Figure size 1000x600 with 1 Axes>"
            ],
            "image/png": "[encoded data removed]"
          },
          "metadata": {}
        }
      ]
    },
    {
      "cell_type": "markdown",
      "source": [
        "*Análise: Observa-se que o Produto A possui a maior frequência de vendas enquanto o produto B a menor quantidade de vendas.*"
      ],
      "metadata": {
        "id": "oxgpBhhXdHTc"
      }
    },
    {
      "cell_type": "markdown",
      "source": [
        "***Convertendo a coluna data_venda para o tipo datetime para explorar e analisar dados temporais de forma eficiente e precisa. Isso é  útil em tarefas como análise de tendências, agrupamento por períodos e cálculos com datas***"
      ],
      "metadata": {
        "id": "Q2-Idp4ye_ft"
      }
    },
    {
      "cell_type": "code",
      "source": [
        "# Converter a coluna data_venda para o tipo datetime\n",
        "df['data_venda'] = pd.to_datetime(df['data_venda'])\n",
        "\n",
        "# Criar uma coluna com o nome do mês\n",
        "df['Mês'] = df['data_venda'].dt.month_name()\n",
        "\n",
        "# Quantidade de vendas por mês\n",
        "vendas_por_mes = df.groupby('Mês')['preco_total'].sum().sort_values(ascending=False)\n",
        "\n",
        "print(vendas_por_mes)"
      ],
      "metadata": {
        "colab": {
          "base_uri": "https://localhost:8080/"
        },
        "id": "WYIVjeCfggji",
        "outputId": "d9b1c4c2-c8f0-40bf-f3de-1bffc57b809d"
      },
      "execution_count": 124,
      "outputs": [
        {
          "output_type": "stream",
          "name": "stdout",
          "text": [
            "Mês\n",
            "August       207973.60\n",
            "July         203611.35\n",
            "April        203265.67\n",
            "March        199866.24\n",
            "May          199592.67\n",
            "December     198109.30\n",
            "February     197350.07\n",
            "October      188450.50\n",
            "September    187500.20\n",
            "January      186558.29\n",
            "June         178704.52\n",
            "November     175923.13\n",
            "Name: preco_total, dtype: float64\n"
          ]
        },
        {
          "output_type": "stream",
          "name": "stderr",
          "text": [
            "<ipython-input-124-ac52c80e201d>:2: UserWarning: Parsing dates in %d-%m-%Y format when dayfirst=False (the default) was specified. Pass `dayfirst=True` or specify a format to silence this warning.\n",
            "  df['data_venda'] = pd.to_datetime(df['data_venda'])\n"
          ]
        }
      ]
    },
    {
      "cell_type": "code",
      "source": [
        "# Quantidade de vendas por região\n",
        "vendas_por_regiao = df.groupby('regiao')['quantidade'].sum().sort_values(ascending=False)\n",
        "\n",
        "print(vendas_por_regiao)"
      ],
      "metadata": {
        "colab": {
          "base_uri": "https://localhost:8080/"
        },
        "id": "eqChwTcJs1kX",
        "outputId": "3acfa886-2a92-4ea1-e849-f19855f53458"
      },
      "execution_count": 152,
      "outputs": [
        {
          "output_type": "stream",
          "name": "stdout",
          "text": [
            "regiao\n",
            "Sul      11441\n",
            "Oeste    10699\n",
            "Norte    10258\n",
            "Leste     9694\n",
            "Name: quantidade, dtype: int64\n"
          ]
        }
      ]
    },
    {
      "cell_type": "code",
      "source": [
        "# Criar os rótulos e os valores\n",
        "regioes_ = vendas_por_regiao.index\n",
        "quantidades_ = vendas_por_regiao.values\n",
        "\n",
        "# Criar o gráfico de rosca\n",
        "plt.figure(figsize=(5, 5))\n",
        "plt.pie(\n",
        "    quantidades_,\n",
        "    labels=regioes_,\n",
        "    autopct='%1.1f%%',  # Mostrar porcentagens com uma casa decimal\n",
        "    startangle=90,      # Começar o gráfico no ângulo de 90°\n",
        "    pctdistance=0.75    # Controlar onde aparecem as porcentagens\n",
        ")\n",
        "\n",
        "# Criar o círculo branco no centro (transformando o gráfico de pizza em rosca)\n",
        "circulo_central = plt.Circle((0, 0), 0.50, color='white')\n",
        "plt.gca().add_artist(circulo_central)\n",
        "\n",
        "# Adicionar título\n",
        "plt.title('Distribuição de Vendas por Região', fontsize=16)\n",
        "\n",
        "# Ajustar o layout e exibir o gráfico\n",
        "plt.tight_layout()\n",
        "plt.show()\n",
        "\n"
      ],
      "metadata": {
        "colab": {
          "base_uri": "https://localhost:8080/",
          "height": 507
        },
        "id": "pNJPaJX6tZEN",
        "outputId": "3eb44dd8-b21d-4c28-c3af-9de1dd1b73e0"
      },
      "execution_count": 160,
      "outputs": [
        {
          "output_type": "display_data",
          "data": {
            "text/plain": [
              "<Figure size 500x500 with 1 Axes>"
            ],
            "image/png": "[encoded data removed]"
          },
          "metadata": {}
        }
      ]
    },
    {
      "cell_type": "markdown",
      "source": [
        "*Análise: Observa-se que a região Sul possui o maior volume de vendas e a região Leste a menor.*"
      ],
      "metadata": {
        "id": "yzln4gOEvKQa"
      }
    },
    {
      "cell_type": "code",
      "source": [
        "import seaborn as sns\n",
        "import matplotlib.pyplot as plt\n",
        "\n",
        "# Gerar o gráfico de barras para o valor total de vendas por mês\n",
        "plt.figure(figsize=(10, 6))\n",
        "barras = vendas_por_mes.plot(kind='bar', color='green', edgecolor='green')\n",
        "\n",
        "# Adicionar rótulos de valores em cada barra\n",
        "for barra in barras.containers:\n",
        "    # Adicionar os valores no topo de cada barra\n",
        "    barras.bar_label(barra, fmt='%.2f', padding=3, fontsize=8, color='gray')\n",
        "\n",
        "# Adicionar título e rótulos dos eixos\n",
        "plt.title('Valor Total de Vendas por Mês (em R$)', fontsize=16)\n",
        "plt.xlabel('Mês', fontsize=16)\n",
        "plt.xticks(rotation=18, fontsize=10)\n",
        "plt.grid(axis='y', linestyle='--', alpha=0.7)\n",
        "\n",
        "# Exibir o gráfico\n",
        "plt.tight_layout()\n",
        "plt.show()\n"
      ],
      "metadata": {
        "colab": {
          "base_uri": "https://localhost:8080/",
          "height": 607
        },
        "id": "5oGxSVl6pjUG",
        "outputId": "03bce8b1-bb1c-42ee-82c2-c7ec100c82ab"
      },
      "execution_count": 146,
      "outputs": [
        {
          "output_type": "display_data",
          "data": {
            "text/plain": [
              "<Figure size 1000x600 with 1 Axes>"
            ],
            "image/png": "[encoded data removed]"
          },
          "metadata": {}
        }
      ]
    }
  ]
}